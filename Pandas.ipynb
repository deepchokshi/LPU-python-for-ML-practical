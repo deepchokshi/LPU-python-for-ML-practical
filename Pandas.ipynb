{
 "cells": [
  {
   "cell_type": "markdown",
   "metadata": {},
   "source": [
    "# Series -> 1D"
   ]
  },
  {
   "cell_type": "code",
   "execution_count": null,
   "metadata": {},
   "outputs": [],
   "source": [
    "import pandas as pd\n",
    "import numpy as np"
   ]
  },
  {
   "cell_type": "code",
   "execution_count": null,
   "metadata": {},
   "outputs": [],
   "source": [
    "data = np.array([\"a\",\"b\",\"c\",\"d\"])\n",
    "data"
   ]
  },
  {
   "cell_type": "code",
   "execution_count": null,
   "metadata": {},
   "outputs": [],
   "source": [
    "s = pd.Series(data, index=[100,200,300,400])\n",
    "s"
   ]
  },
  {
   "cell_type": "markdown",
   "metadata": {},
   "source": [
    "# Data Frame -> 2D"
   ]
  },
  {
   "cell_type": "code",
   "execution_count": null,
   "metadata": {},
   "outputs": [],
   "source": [
    "data = [[\"sam\",\"20\"],[\"Ram\",\"30\"],[\"Jhon\",\"40\"]]\n",
    "data"
   ]
  },
  {
   "cell_type": "code",
   "execution_count": null,
   "metadata": {},
   "outputs": [],
   "source": [
    "df = pd.DataFrame(data,columns=[\"Name\",\"Age\"],\n",
    "                  index=[\"row1\",\"row2\",\"row3\"])\n",
    "df"
   ]
  },
  {
   "cell_type": "code",
   "execution_count": null,
   "metadata": {},
   "outputs": [],
   "source": [
    "# Create a Data Frame using Dictionary of Series\n",
    "a = pd.Series([1,2,3],index=[\"a\",\"b\",\"c\"])\n",
    "b = pd.Series([1,2,3,4],index=[\"a\",\"b\",\"c\",\"d\"])\n",
    "d = {\"one\":a,\"two\":b}\n",
    "df=pd.DataFrame(d)\n",
    "df"
   ]
  },
  {
   "cell_type": "code",
   "execution_count": null,
   "metadata": {},
   "outputs": [],
   "source": [
    "# write a program in python create to add the first two column into the new col\n",
    "a = pd.Series([1,2,3],index=[\"a\",\"b\",\"c\"])\n",
    "b = pd.Series([1,2,3,4],index=[\"a\",\"b\",\"c\",\"d\"])\n",
    "c = a+b\n",
    "d = {\"one\":a,\"two\":b,\"total\":c}\n",
    "df=pd.DataFrame(d)\n",
    "df"
   ]
  },
  {
   "cell_type": "code",
   "execution_count": null,
   "metadata": {},
   "outputs": [],
   "source": [
    "#Write a program to add the fourth key and delete the second key after that in the same dictionary.Print the output of both the operation separately.\n",
    "a = pd.Series([1,2,3],index=[\"a\",\"b\",\"c\"])\n",
    "b = pd.Series([1,2,3,4],index=[\"a\",\"b\",\"c\",\"d\"])\n",
    "c = a+b\n",
    "d = {\"one\":a,\"two\":b,\"total\":c}\n",
    "d[\"fourth\"] = a*b\n",
    "df=pd.DataFrame(d)\n",
    "df\n",
    "d.pop(\"two\")\n",
    "df=pd.DataFrame(d)\n",
    "df"
   ]
  },
  {
   "cell_type": "code",
   "execution_count": null,
   "metadata": {},
   "outputs": [],
   "source": [
    "df"
   ]
  },
  {
   "cell_type": "code",
   "execution_count": null,
   "metadata": {},
   "outputs": [],
   "source": [
    "# 19-10-2020"
   ]
  },
  {
   "cell_type": "markdown",
   "metadata": {},
   "source": [
    "# Locating the element "
   ]
  },
  {
   "cell_type": "code",
   "execution_count": null,
   "metadata": {},
   "outputs": [],
   "source": [
    "a = pd.Series([1,2,3],index=[\"a\",\"b\",\"c\"])\n",
    "b = pd.Series([1,2,3,4],index=[\"a\",\"b\",\"c\",\"d\"])\n",
    "c = a+b\n",
    "d = {\"one\":a,\"two\":b,\"total\":c}\n",
    "d[\"fourth\"] = a*b\n",
    "df=pd.DataFrame(d)"
   ]
  },
  {
   "cell_type": "code",
   "execution_count": null,
   "metadata": {},
   "outputs": [],
   "source": [
    "#loc\n",
    "df.loc[\"b\"]"
   ]
  },
  {
   "cell_type": "code",
   "execution_count": null,
   "metadata": {},
   "outputs": [],
   "source": [
    "#iloc\n",
    "df.iloc[2]"
   ]
  },
  {
   "cell_type": "code",
   "execution_count": null,
   "metadata": {},
   "outputs": [],
   "source": [
    "#access the element in specified range \n",
    "df[2:4]"
   ]
  },
  {
   "cell_type": "markdown",
   "metadata": {},
   "source": [
    "# Adding two rows in the dataframe"
   ]
  },
  {
   "cell_type": "code",
   "execution_count": null,
   "metadata": {},
   "outputs": [],
   "source": [
    "import pandas as pd"
   ]
  },
  {
   "cell_type": "code",
   "execution_count": null,
   "metadata": {},
   "outputs": [],
   "source": [
    "df1=pd.DataFrame([[1,2],[3,4]],columns = [\"a\",\"b\"])\n",
    "df2=pd.DataFrame([[5,6],[7,8]],columns = [\"a\",\"b\"])"
   ]
  },
  {
   "cell_type": "code",
   "execution_count": null,
   "metadata": {},
   "outputs": [],
   "source": [
    "df = df1.append(df2)\n",
    "df=df.drop(0)"
   ]
  },
  {
   "cell_type": "code",
   "execution_count": null,
   "metadata": {},
   "outputs": [],
   "source": [
    "df"
   ]
  },
  {
   "cell_type": "markdown",
   "metadata": {},
   "source": [
    "write a program for student array consisting of marks from different subject. Perform the operation of adding rows and columns in the dataframe"
   ]
  },
  {
   "cell_type": "code",
   "execution_count": null,
   "metadata": {},
   "outputs": [],
   "source": [
    "import pandas as pd\n",
    "m = [['Deep', 90, 70],['Dharita', 98, 75]]\n",
    "df = pd.DataFrame(m, columns = ['Student' , 'Python', 'DS'], index=[1,2])\n",
    "print(df)\n",
    "df1 = df.append(pd.Series(['Amee',97,89], index=df.columns ),ignore_index=True)\n",
    "print(df1)\n",
    "\n",
    "# Total Marks\n",
    "df.sum(1)"
   ]
  },
  {
   "cell_type": "code",
   "execution_count": null,
   "metadata": {},
   "outputs": [],
   "source": [
    "df.sum(1)"
   ]
  },
  {
   "cell_type": "code",
   "execution_count": null,
   "metadata": {
    "scrolled": true
   },
   "outputs": [],
   "source": [
    "a = np.array([22,25,30,28,26])\n",
    "b = np.array([21,18,20,27,29])\n",
    "\n",
    "dic = {\"python\":a,\"maths\":b}\n",
    "dic['add']= a+b\n",
    "add_a = 0\n",
    "\n",
    "for i in (a):\n",
    "    add_a = add_a + i\n",
    "    add_b =0\n",
    "for i in (b):\n",
    "    add_b = add_b + i\n",
    "\n",
    "L=[add_a,add_b,0,0,0]\n",
    "dic['coladd']=L\n",
    "df = pd.DataFrame(dic)\n",
    "print(df)\n",
    "loc = df.iloc[:,3]\n",
    "print(loc)"
   ]
  },
  {
   "cell_type": "markdown",
   "metadata": {},
   "source": [
    "### 20-10-2020\n",
    "# Operations on CSV file"
   ]
  },
  {
   "cell_type": "code",
   "execution_count": null,
   "metadata": {},
   "outputs": [],
   "source": [
    "import pandas as pd"
   ]
  },
  {
   "cell_type": "code",
   "execution_count": null,
   "metadata": {},
   "outputs": [],
   "source": [
    "df = pd.read_csv(\"sample.csv\")\n",
    "df"
   ]
  },
  {
   "cell_type": "code",
   "execution_count": null,
   "metadata": {},
   "outputs": [],
   "source": [
    "# converting df into csv\n",
    "data = [[\"Ram\",10],[\"Shyam\",20],[\"Ganshyam\",30]]\n",
    "df = pd.DataFrame(data,columns = [\"Name\",\"Age\"])\n",
    "df.to_csv(\"demo.csv\")"
   ]
  },
  {
   "cell_type": "code",
   "execution_count": null,
   "metadata": {},
   "outputs": [],
   "source": [
    "df = pd.read_csv(\"demo.csv\")\n",
    "df"
   ]
  },
  {
   "cell_type": "code",
   "execution_count": null,
   "metadata": {},
   "outputs": [],
   "source": [
    "# write a program to create student dataset by\n",
    "#using dataframe and convert it to csv\n",
    "\n",
    "df = pd.DataFrame({'Name': ['Deep', 'Amee'],\n",
    "                   'Marks': ['99', '98'],\n",
    "                   'Field': ['ML & AI', 'Medical']})\n",
    "df.to_csv(\"student.csv\")"
   ]
  },
  {
   "cell_type": "code",
   "execution_count": null,
   "metadata": {},
   "outputs": [],
   "source": [
    "df = pd.read_csv(\"student.csv\")\n",
    "print (df)"
   ]
  },
  {
   "cell_type": "code",
   "execution_count": null,
   "metadata": {},
   "outputs": [],
   "source": [
    "# wap for converting nested dictionary df into csv file\n",
    "df     =pd.DataFrame( { 'Deep': { 'Age' : 21, 'Gender' : \"Male\", 'Role' : 'student' },\n",
    "           'Amee': { 'Age' : 20, 'Gender' : \"Female\", 'Role' : 'Student' } })\n",
    "df.to_csv(\"std.csv\")\n"
   ]
  },
  {
   "cell_type": "code",
   "execution_count": null,
   "metadata": {},
   "outputs": [],
   "source": [
    "df = pd.read_csv(\"std.csv\")\n",
    "print (df)"
   ]
  },
  {
   "cell_type": "code",
   "execution_count": 4,
   "metadata": {},
   "outputs": [],
   "source": [
    "#random operations on csv file\n",
    "import pandas as pd\n",
    "df = pd.read_csv(\"sample.csv\")\n",
    "d = df['statecode']\n",
    "df.pop(\"statecode\")\n",
    "df[\"new\"] = df[\"point_granularity\"] +1\n",
    "df.shape\n",
    "df[\"tiv_11_12\"] = df[\"tiv_2011\"] + df[\"tiv_2012\"]"
   ]
  },
  {
   "cell_type": "code",
   "execution_count": null,
   "metadata": {},
   "outputs": [],
   "source": [
    "df.append(d)"
   ]
  },
  {
   "cell_type": "code",
   "execution_count": 5,
   "metadata": {},
   "outputs": [
    {
     "data": {
      "text/html": [
       "<div>\n",
       "<style scoped>\n",
       "    .dataframe tbody tr th:only-of-type {\n",
       "        vertical-align: middle;\n",
       "    }\n",
       "\n",
       "    .dataframe tbody tr th {\n",
       "        vertical-align: top;\n",
       "    }\n",
       "\n",
       "    .dataframe thead th {\n",
       "        text-align: right;\n",
       "    }\n",
       "</style>\n",
       "<table border=\"1\" class=\"dataframe\">\n",
       "  <thead>\n",
       "    <tr style=\"text-align: right;\">\n",
       "      <th></th>\n",
       "      <th>policyID</th>\n",
       "      <th>county</th>\n",
       "      <th>eq_site_limit</th>\n",
       "      <th>hu_site_limit</th>\n",
       "      <th>fl_site_limit</th>\n",
       "      <th>fr_site_limit</th>\n",
       "      <th>tiv_2011</th>\n",
       "      <th>tiv_2012</th>\n",
       "      <th>eq_site_deductible</th>\n",
       "      <th>hu_site_deductible</th>\n",
       "      <th>fl_site_deductible</th>\n",
       "      <th>fr_site_deductible</th>\n",
       "      <th>point_latitude</th>\n",
       "      <th>point_longitude</th>\n",
       "      <th>line</th>\n",
       "      <th>construction</th>\n",
       "      <th>point_granularity</th>\n",
       "      <th>new</th>\n",
       "      <th>tiv_11_12</th>\n",
       "    </tr>\n",
       "  </thead>\n",
       "  <tbody>\n",
       "    <tr>\n",
       "      <th>0</th>\n",
       "      <td>119736</td>\n",
       "      <td>CLAY COUNTY</td>\n",
       "      <td>498960.0</td>\n",
       "      <td>498960.00</td>\n",
       "      <td>498960.0</td>\n",
       "      <td>498960.0</td>\n",
       "      <td>498960.00</td>\n",
       "      <td>792148.90</td>\n",
       "      <td>0.0</td>\n",
       "      <td>9979.2</td>\n",
       "      <td>0.0</td>\n",
       "      <td>0</td>\n",
       "      <td>30.102261</td>\n",
       "      <td>-81.711777</td>\n",
       "      <td>Residential</td>\n",
       "      <td>Masonry</td>\n",
       "      <td>1</td>\n",
       "      <td>2</td>\n",
       "      <td>1291108.90</td>\n",
       "    </tr>\n",
       "    <tr>\n",
       "      <th>1</th>\n",
       "      <td>448094</td>\n",
       "      <td>CLAY COUNTY</td>\n",
       "      <td>1322376.3</td>\n",
       "      <td>1322376.30</td>\n",
       "      <td>1322376.3</td>\n",
       "      <td>1322376.3</td>\n",
       "      <td>1322376.30</td>\n",
       "      <td>1438163.57</td>\n",
       "      <td>0.0</td>\n",
       "      <td>0.0</td>\n",
       "      <td>0.0</td>\n",
       "      <td>0</td>\n",
       "      <td>30.063936</td>\n",
       "      <td>-81.707664</td>\n",
       "      <td>Residential</td>\n",
       "      <td>Masonry</td>\n",
       "      <td>3</td>\n",
       "      <td>4</td>\n",
       "      <td>2760539.87</td>\n",
       "    </tr>\n",
       "    <tr>\n",
       "      <th>2</th>\n",
       "      <td>206893</td>\n",
       "      <td>CLAY COUNTY</td>\n",
       "      <td>190724.4</td>\n",
       "      <td>190724.40</td>\n",
       "      <td>190724.4</td>\n",
       "      <td>190724.4</td>\n",
       "      <td>190724.40</td>\n",
       "      <td>192476.78</td>\n",
       "      <td>0.0</td>\n",
       "      <td>0.0</td>\n",
       "      <td>0.0</td>\n",
       "      <td>0</td>\n",
       "      <td>30.089579</td>\n",
       "      <td>-81.700455</td>\n",
       "      <td>Residential</td>\n",
       "      <td>Wood</td>\n",
       "      <td>1</td>\n",
       "      <td>2</td>\n",
       "      <td>383201.18</td>\n",
       "    </tr>\n",
       "    <tr>\n",
       "      <th>3</th>\n",
       "      <td>333743</td>\n",
       "      <td>CLAY COUNTY</td>\n",
       "      <td>0.0</td>\n",
       "      <td>79520.76</td>\n",
       "      <td>0.0</td>\n",
       "      <td>0.0</td>\n",
       "      <td>79520.76</td>\n",
       "      <td>86854.48</td>\n",
       "      <td>0.0</td>\n",
       "      <td>0.0</td>\n",
       "      <td>0.0</td>\n",
       "      <td>0</td>\n",
       "      <td>30.063236</td>\n",
       "      <td>-81.707703</td>\n",
       "      <td>Residential</td>\n",
       "      <td>Wood</td>\n",
       "      <td>3</td>\n",
       "      <td>4</td>\n",
       "      <td>166375.24</td>\n",
       "    </tr>\n",
       "    <tr>\n",
       "      <th>4</th>\n",
       "      <td>172534</td>\n",
       "      <td>CLAY COUNTY</td>\n",
       "      <td>0.0</td>\n",
       "      <td>254281.50</td>\n",
       "      <td>0.0</td>\n",
       "      <td>254281.5</td>\n",
       "      <td>254281.50</td>\n",
       "      <td>246144.49</td>\n",
       "      <td>0.0</td>\n",
       "      <td>0.0</td>\n",
       "      <td>0.0</td>\n",
       "      <td>0</td>\n",
       "      <td>30.060614</td>\n",
       "      <td>-81.702675</td>\n",
       "      <td>Residential</td>\n",
       "      <td>Wood</td>\n",
       "      <td>1</td>\n",
       "      <td>2</td>\n",
       "      <td>500425.99</td>\n",
       "    </tr>\n",
       "  </tbody>\n",
       "</table>\n",
       "</div>"
      ],
      "text/plain": [
       "   policyID       county  eq_site_limit  hu_site_limit  fl_site_limit  \\\n",
       "0    119736  CLAY COUNTY       498960.0      498960.00       498960.0   \n",
       "1    448094  CLAY COUNTY      1322376.3     1322376.30      1322376.3   \n",
       "2    206893  CLAY COUNTY       190724.4      190724.40       190724.4   \n",
       "3    333743  CLAY COUNTY            0.0       79520.76            0.0   \n",
       "4    172534  CLAY COUNTY            0.0      254281.50            0.0   \n",
       "\n",
       "   fr_site_limit    tiv_2011    tiv_2012  eq_site_deductible  \\\n",
       "0       498960.0   498960.00   792148.90                 0.0   \n",
       "1      1322376.3  1322376.30  1438163.57                 0.0   \n",
       "2       190724.4   190724.40   192476.78                 0.0   \n",
       "3            0.0    79520.76    86854.48                 0.0   \n",
       "4       254281.5   254281.50   246144.49                 0.0   \n",
       "\n",
       "   hu_site_deductible  fl_site_deductible  fr_site_deductible  point_latitude  \\\n",
       "0              9979.2                 0.0                   0       30.102261   \n",
       "1                 0.0                 0.0                   0       30.063936   \n",
       "2                 0.0                 0.0                   0       30.089579   \n",
       "3                 0.0                 0.0                   0       30.063236   \n",
       "4                 0.0                 0.0                   0       30.060614   \n",
       "\n",
       "   point_longitude         line construction  point_granularity  new  \\\n",
       "0       -81.711777  Residential      Masonry                  1    2   \n",
       "1       -81.707664  Residential      Masonry                  3    4   \n",
       "2       -81.700455  Residential         Wood                  1    2   \n",
       "3       -81.707703  Residential         Wood                  3    4   \n",
       "4       -81.702675  Residential         Wood                  1    2   \n",
       "\n",
       "    tiv_11_12  \n",
       "0  1291108.90  \n",
       "1  2760539.87  \n",
       "2   383201.18  \n",
       "3   166375.24  \n",
       "4   500425.99  "
      ]
     },
     "execution_count": 5,
     "metadata": {},
     "output_type": "execute_result"
    }
   ],
   "source": [
    "df.head()"
   ]
  },
  {
   "cell_type": "code",
   "execution_count": 3,
   "metadata": {},
   "outputs": [],
   "source": [
    "df[\"new\"] = df[\"point_granularity\"] +1"
   ]
  },
  {
   "cell_type": "code",
   "execution_count": null,
   "metadata": {},
   "outputs": [],
   "source": []
  }
 ],
 "metadata": {
  "kernelspec": {
   "display_name": "Python 3",
   "language": "python",
   "name": "python3"
  },
  "language_info": {
   "codemirror_mode": {
    "name": "ipython",
    "version": 3
   },
   "file_extension": ".py",
   "mimetype": "text/x-python",
   "name": "python",
   "nbconvert_exporter": "python",
   "pygments_lexer": "ipython3",
   "version": "3.7.9"
  }
 },
 "nbformat": 4,
 "nbformat_minor": 4
}
