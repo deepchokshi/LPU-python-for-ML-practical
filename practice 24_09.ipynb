{
 "cells": [
  {
   "cell_type": "code",
   "execution_count": 1,
   "metadata": {},
   "outputs": [],
   "source": [
    "#operator oveloding\n",
    "#x+y __add__(self,others)\n",
    "#x-y __sub__(self,others)\n",
    "#x*y __mul__(self,others)\n",
    "#x/y __truedic__(self,others)\n",
    "#x//y __floordiv__(self,others)\n",
    "#x%y __mod__(self,others)\n",
    "#-x __neg__(self)"
   ]
  },
  {
   "cell_type": "code",
   "execution_count": 4,
   "metadata": {},
   "outputs": [
    {
     "name": "stdout",
     "output_type": "stream",
     "text": [
      "50\n"
     ]
    }
   ],
   "source": [
    "class over:\n",
    "    def __init__(self,x):\n",
    "        self.x=x\n",
    "    def __add__(self,other):\n",
    "        return (self.x+other.x)\n",
    "obj1=over(20)\n",
    "obj2=over(30)\n",
    "obj3=obj1+obj2\n",
    "print (obj3)\n",
    "print(obj1.__add__(obj2))"
   ]
  },
  {
   "cell_type": "code",
   "execution_count": 6,
   "metadata": {},
   "outputs": [],
   "source": [
    "class deep:\n",
    "    def __init__(self,y):\n",
    "        self.y=y\n",
    "    def __add__(self,other):\n",
    "        return (self.y+other.y)\n",
    "    def __sub__(self,other):\n",
    "        return (self.y-other.y)\n",
    "    def __mul__(self,other):\n",
    "        return (self.y*other.y)\n",
    "    def __truediv__(self,other):\n",
    "        return (self.y/other.y)\n",
    "obj1=deep(10)\n",
    "obj2=deep(20)\n",
    "print(obj1.__add__(obj2))\n",
    "print(obj1.__mul__(obj2))\n",
    "print(obj1.__sub__(obj2))\n",
    "print(obj1.__truediv__(obj2))"
   ]
  },
  {
   "cell_type": "code",
   "execution_count": 7,
   "metadata": {},
   "outputs": [],
   "source": [
    "#Special method for comparision \n",
    "#x==y __eq__(self,other)\n",
    "#x<y __lt__(self,other)\n",
    "#x>y __gt__(self,other)\n",
    "#x<=y __le__(self,other)\n",
    "#x>=y __ge__(self,other)"
   ]
  },
  {
   "cell_type": "code",
   "execution_count": 11,
   "metadata": {},
   "outputs": [
    {
     "name": "stdout",
     "output_type": "stream",
     "text": [
      "True\n"
     ]
    }
   ],
   "source": [
    "class demo:\n",
    "    def __init__(self,x):\n",
    "        self.x=x\n",
    "    def __lt__(self,other):\n",
    "        return self.x<other.x\n",
    "obj1=demo(20)\n",
    "obj2=demo(30)\n",
    "print(obj1<obj2)"
   ]
  },
  {
   "cell_type": "code",
   "execution_count": 13,
   "metadata": {},
   "outputs": [
    {
     "name": "stdout",
     "output_type": "stream",
     "text": [
      "False\n",
      "True\n",
      "False\n",
      "True\n"
     ]
    }
   ],
   "source": [
    "class demo:\n",
    "    def __init__(self,x):\n",
    "        self.x=x\n",
    "    def __eq__(self,other):\n",
    "        return self.x==other.x\n",
    "    def __lt__(self,other):\n",
    "        return self.x<other.x\n",
    "    def __gt__(self,other):\n",
    "        return self.x>other.x\n",
    "    def __le__(self,other):\n",
    "        return self.x<=other.x\n",
    "obj1=demo(20)\n",
    "obj2=demo(30)\n",
    "print(obj1==obj2)\n",
    "print(obj1<obj2)\n",
    "print(obj1>obj2)\n",
    "print(obj1<=obj2)"
   ]
  },
  {
   "cell_type": "code",
   "execution_count": 14,
   "metadata": {},
   "outputs": [
    {
     "name": "stdout",
     "output_type": "stream",
     "text": [
      "{'Add': 1, 'Sub': 2, 'Mul': 3, 'div': 4}\n",
      "Enter you choice:1\n",
      "30\n"
     ]
    }
   ],
   "source": [
    "class deep:\n",
    "    def __init__(self,y):\n",
    "        self.y=y\n",
    "    def __add__(self,other):\n",
    "        return (self.y+other.y)\n",
    "    def __sub__(self,other):\n",
    "        return (self.y-other.y)\n",
    "    def __mul__(self,other):\n",
    "        return (self.y*other.y)\n",
    "    def __truediv__(self,other):\n",
    "        return (self.y/other.y)\n",
    "obj1=deep(10)\n",
    "obj2=deep(20)\n",
    "\n",
    "dic = {\"Add\":1,\"Sub\":2,\"Mul\":3,\"div\":4}\n",
    "print (dic)\n",
    "choice = int(input(\"Enter you choice:\"))\n",
    "if choice == 1:\n",
    "    print(obj1.__add__(obj2))\n",
    "elif choice == 2:\n",
    "    print(obj1.__sub__(obj2))\n",
    "elif choice == 3:\n",
    "    print(obj1.__mul__(obj2))\n",
    "elif choice == 4:\n",
    "    print(obj1.__truediv__(obj2))"
   ]
  },
  {
   "cell_type": "code",
   "execution_count": 18,
   "metadata": {},
   "outputs": [
    {
     "name": "stdout",
     "output_type": "stream",
     "text": [
      "Enter value for 1st object:34\n",
      "Enter value for 2nd object:24\n",
      "Enter the operator for you operation:+\n",
      "58\n"
     ]
    }
   ],
   "source": [
    "class deep:\n",
    "    def __init__(self,y):\n",
    "        self.y=y\n",
    "    def __add__(self,other):\n",
    "        return (self.y+other.y)\n",
    "    def __sub__(self,other):\n",
    "        return (self.y-other.y)\n",
    "    def __mul__(self,other):\n",
    "        return (self.y*other.y)\n",
    "    def __truediv__(self,other):\n",
    "        return (self.y/other.y)\n",
    "\n",
    "val1 = int(input(\"Enter value for 1st object:\"))\n",
    "val2 = int(input(\"Enter value for 2nd object:\"))\n",
    "obj1=deep(val1)\n",
    "obj2=deep(val2)\n",
    "\n",
    "ope = input(\"Enter the operator for you operation:\")\n",
    "\n",
    "if ope == \"+\":\n",
    "    print(obj1.__add__(obj2))\n",
    "elif ope == \"-\":\n",
    "    print(obj1.__sub__(obj2))\n",
    "elif ope == \"*\":\n",
    "    print(obj1.__mul__(obj2))\n",
    "elif ope == \"/\":\n",
    "    print(obj1.__truediv__(obj2))\n",
    "else:\n",
    "    print (\"Please enter proper operator\")"
   ]
  },
  {
   "cell_type": "code",
   "execution_count": null,
   "metadata": {},
   "outputs": [],
   "source": []
  }
 ],
 "metadata": {
  "kernelspec": {
   "display_name": "Python 3",
   "language": "python",
   "name": "python3"
  },
  "language_info": {
   "codemirror_mode": {
    "name": "ipython",
    "version": 3
   },
   "file_extension": ".py",
   "mimetype": "text/x-python",
   "name": "python",
   "nbconvert_exporter": "python",
   "pygments_lexer": "ipython3",
   "version": "3.7.7"
  }
 },
 "nbformat": 4,
 "nbformat_minor": 4
}
