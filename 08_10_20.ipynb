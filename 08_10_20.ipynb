{
 "cells": [
  {
   "cell_type": "code",
   "execution_count": 1,
   "metadata": {},
   "outputs": [],
   "source": [
    "f = open(\"hashfile.txt\",\"r\")"
   ]
  },
  {
   "cell_type": "code",
   "execution_count": 2,
   "metadata": {},
   "outputs": [
    {
     "name": "stdout",
     "output_type": "stream",
     "text": [
      "Included: hello\n",
      "\n",
      "Eleminated: #deep\n",
      "\n",
      "Eleminated: #chokshi\n",
      "\n",
      "Included: good morning\n",
      "\n",
      "Eleminated: #345\n",
      "\n",
      "Included: Nice\n",
      "Total Included Lines: 3\n",
      "Total eleminated line: 3\n"
     ]
    }
   ],
   "source": [
    "i_count = 0\n",
    "e_count = 0\n",
    "for i in f.readlines():\n",
    "    if i[0] != \"#\":\n",
    "        print (\"Included:\",i)\n",
    "        i_count += 1 \n",
    "    else:\n",
    "        print (\"Eleminated:\",i)\n",
    "        e_count+=1\n",
    "print (\"Total Included Lines:\",i_count)\n",
    "print (\"Total eleminated line:\",e_count)"
   ]
  },
  {
   "cell_type": "code",
   "execution_count": null,
   "metadata": {},
   "outputs": [],
   "source": []
  }
 ],
 "metadata": {
  "kernelspec": {
   "display_name": "Python 3",
   "language": "python",
   "name": "python3"
  },
  "language_info": {
   "codemirror_mode": {
    "name": "ipython",
    "version": 3
   },
   "file_extension": ".py",
   "mimetype": "text/x-python",
   "name": "python",
   "nbconvert_exporter": "python",
   "pygments_lexer": "ipython3",
   "version": "3.7.7"
  }
 },
 "nbformat": 4,
 "nbformat_minor": 4
}
