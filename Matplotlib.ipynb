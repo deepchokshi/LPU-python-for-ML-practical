{
 "cells": [
  {
   "cell_type": "code",
   "execution_count": null,
   "metadata": {},
   "outputs": [],
   "source": [
    "import matplotlib.pyplot as plt\n",
    "import numpy as np"
   ]
  },
  {
   "cell_type": "code",
   "execution_count": null,
   "metadata": {},
   "outputs": [],
   "source": [
    "#basic line graph\n",
    "x = np.arange(1,11)\n",
    "#y = mx + c\n",
    "y = 2 * x + 5\n",
    "_ = plt.plot(x,y)\n",
    "_ = plt.show()"
   ]
  },
  {
   "cell_type": "code",
   "execution_count": null,
   "metadata": {},
   "outputs": [],
   "source": [
    "#more features\n",
    "x = np.arange(1,11)\n",
    "y = 2 * x + 5\n",
    "_ = plt.plot(x,y,\"m\")\n",
    "_ = plt.title(\"Sample line graphy\")\n",
    "_ = plt.xlabel(\"X axis\")\n",
    "_ = plt.ylabel(\"Y axis\")\n",
    "_ = plt.show()"
   ]
  },
  {
   "cell_type": "code",
   "execution_count": null,
   "metadata": {},
   "outputs": [],
   "source": [
    "#write a program to create line graph for students display his performance in the subject individual\n",
    "sub = [\"Python\",\"DS\",\"Soft Computing\"]\n",
    "marks = [98,97,60]\n",
    "_ = plt.plot(sub,marks,\"r\")\n",
    "_ = plt.title(\"Student performance\")\n",
    "_ = plt.xlabel(\"Subject\")\n",
    "_ = plt.ylabel(\"Marks\")\n",
    "_ = plt.show()"
   ]
  },
  {
   "cell_type": "code",
   "execution_count": null,
   "metadata": {},
   "outputs": [],
   "source": [
    "#Home work#Try to find out which other characters are use to display the scatter plot\n",
    "#https://matplotlib.org/3.3.2/api/markers_api.html#module-matplotlib.markers"
   ]
  },
  {
   "cell_type": "code",
   "execution_count": null,
   "metadata": {},
   "outputs": [],
   "source": [
    "x=[\"AI\",\"ML\",\"DL\"]\n",
    "y=[60,70,50]\n",
    "\n",
    "plt.title(\"Student Marks\")\n",
    "plt.xlabel(\"Subjects\")\n",
    "plt.ylabel(\"Marks\")\n",
    "plt.plot(x,y,\"*\",\"v\")\n",
    "plt.show()"
   ]
  },
  {
   "cell_type": "code",
   "execution_count": null,
   "metadata": {},
   "outputs": [],
   "source": [
    "#Histogram\n",
    "\n",
    "a = np.array([6.7,8.5,6.7,8,5.3])\n",
    "plt.title(\"Student CGPA\")\n",
    "plt.xlabel(\"CGPA\")\n",
    "plt.hist(a)\n",
    "plt.show()"
   ]
  },
  {
   "cell_type": "code",
   "execution_count": null,
   "metadata": {
    "scrolled": true
   },
   "outputs": [],
   "source": [
    "# write a program create histogram for input from user for seperate even and odds\n",
    "even = []\n",
    "odd = []\n",
    "for i in range(1,10):\n",
    "    print (\"1 for even & 0 for odd:\", i)\n",
    "    a = int(input(\"enter number is even or odd:\"))\n",
    "    if a == 1:\n",
    "        even.append(i)\n",
    "    elif a == 0:\n",
    "        odd.append(i)\n",
    "num = {\"Even\":len(even),\"Odd\":len(odd)} \n",
    "plt.hist(num)\n",
    "plt.show()"
   ]
  },
  {
   "cell_type": "code",
   "execution_count": null,
   "metadata": {},
   "outputs": [],
   "source": [
    "count np.histogram(num)"
   ]
  },
  {
   "cell_type": "code",
   "execution_count": null,
   "metadata": {},
   "outputs": [],
   "source": [
    " #Write program to create a histogram of IPL players according to their match details\n",
    "import matplotlib.pyplot as plt\n",
    "top_score = {\"KL Rahul\":132,\"Mayank Agrwal\":106,\"Shikhar Dhawan\":160}\n",
    "plt.hist(list(top_score.keys()),weights=top_score.values())\n",
    "plt.show()"
   ]
  },
  {
   "cell_type": "code",
   "execution_count": null,
   "metadata": {
    "scrolled": true
   },
   "outputs": [],
   "source": [
    "top_score.values()"
   ]
  },
  {
   "cell_type": "code",
   "execution_count": null,
   "metadata": {},
   "outputs": [],
   "source": [
    "help(plt.hist)"
   ]
  },
  {
   "cell_type": "code",
   "execution_count": null,
   "metadata": {},
   "outputs": [],
   "source": [
    "# write a program to display the details of corona case in India.\n",
    "covid_case = {\"Maharashtra\":1.63,\"Andhra Pradesh\":0.797,\"Karnataka\":0.789,\"Tamil Nadu\":0.700,\"Uttar Pradesh\":0.464}\n",
    "plt.hist(list(covid_case.keys()),weights=covid_case.values())\n",
    "plt.title(\"Numbers are in Million\")\n",
    "plt.show()"
   ]
  },
  {
   "cell_type": "code",
   "execution_count": null,
   "metadata": {},
   "outputs": [],
   "source": [
    "# Pie chart"
   ]
  },
  {
   "cell_type": "code",
   "execution_count": 2,
   "metadata": {},
   "outputs": [],
   "source": [
    "import matplotlib.pyplot as plt"
   ]
  },
  {
   "cell_type": "code",
   "execution_count": null,
   "metadata": {},
   "outputs": [],
   "source": [
    "india_pop = [1322,2332,1235,2662,1222]\n",
    "color=[\"red\",\"blue\",\"green\",\"orange\",\"yellow\"]\n",
    "state=[\"Punjab\",\"Delhi\",\"Maharashtra\",\"AP\",\"UP\"]\n",
    "plt.pie(india_pop,labels=state,autopct=\"%.1f%%\",colors=color)\n",
    "plt.title(\"Indian Corona Stat\")"
   ]
  },
  {
   "cell_type": "code",
   "execution_count": null,
   "metadata": {},
   "outputs": [],
   "source": [
    "# write a program in python to create a pie chart of students displaying  the marks of various subjects.\n",
    "marks = [72,83,80,90]\n",
    "color=[\"red\",\"blue\",\"green\",\"orange\"]\n",
    "subject=[\"DS\",\"Soft Computing\",\"Maths\",\"Python\"]\n",
    "plt.pie(marks,labels=subject,explode=(0,0.1,0.1,0),shadow=True,autopct=\"%.1f%%\",colors=color)\n",
    "plt.title(\"Marks of various Subject\")"
   ]
  },
  {
   "cell_type": "code",
   "execution_count": 12,
   "metadata": {},
   "outputs": [
    {
     "data": {
      "text/plain": [
       "Text(0.5, 1.0, 'Highest student in program')"
      ]
     },
     "execution_count": 12,
     "metadata": {},
     "output_type": "execute_result"
    },
    {
     "data": {
      "image/png": "[encoded data removed]",
      "text/plain": [
       "<Figure size 432x288 with 1 Axes>"
      ]
     },
     "metadata": {},
     "output_type": "display_data"
    }
   ],
   "source": [
    "# Create a program to display different branches in clg and slice out the highest student program from it.\n",
    "no_stud = [160,200,170,180]\n",
    "color=[\"red\",\"blue\",\"green\",\"orange\"]\n",
    "branch=[\"CSE\",\"IT\",\"EC\",\"Civil\"]\n",
    "plt.pie(no_stud,labels=branch,shadow=True,autopct=\"%.1f%%\",colors=color)\n",
    "plt.title(\"Highest student in program\")"
   ]
  },
  {
   "cell_type": "code",
   "execution_count": 14,
   "metadata": {},
   "outputs": [
    {
     "data": {
      "text/plain": [
       "([<matplotlib.patches.Wedge at 0x1a5e9474608>,\n",
       "  <matplotlib.patches.Wedge at 0x1a5e948fc48>,\n",
       "  <matplotlib.patches.Wedge at 0x1a5e9495f48>,\n",
       "  <matplotlib.patches.Wedge at 0x1a5e94a4448>,\n",
       "  <matplotlib.patches.Wedge at 0x1a5e94ab848>,\n",
       "  <matplotlib.patches.Wedge at 0x1a5e94b0c88>,\n",
       "  <matplotlib.patches.Wedge at 0x1a5e94b7f88>,\n",
       "  <matplotlib.patches.Wedge at 0x1a5e94c6448>],\n",
       " [Text(0.9712423430119266, 0.5164187362409534, 'MI'),\n",
       "  Text(0.19101293345180578, 1.0832885392424938, 'KKR'),\n",
       "  Text(-0.5500000817588411, 0.9526278969593891, 'CSK'),\n",
       "  Text(-1.0573878989665877, 0.3032009747989369, 'DC'),\n",
       "  Text(-0.932852829668743, -0.5829113124472874, 'XXIP'),\n",
       "  Text(-0.4120671100527917, -1.0199022976799006, 'SRH'),\n",
       "  Text(0.4120674203957419, -1.0199021722932053, 'RCB'),\n",
       "  Text(1.0336619523349455, -0.3762219667896987, 'RR')],\n",
       " [Text(0.529768550733778, 0.28168294704051994, '15.6%'),\n",
       "  Text(0.10418887279189405, 0.590884657768633, '13.3%'),\n",
       "  Text(-0.30000004459573143, 0.5196152165233031, '8.9%'),\n",
       "  Text(-0.5767570357999569, 0.16538234989032918, '15.6%'),\n",
       "  Text(-0.5088288161829507, -0.3179516249712476, '11.1%'),\n",
       "  Text(-0.2247638782106136, -0.5563103441890367, '8.9%'),\n",
       "  Text(0.22476404748858647, -0.5563102757962938, '15.6%'),\n",
       "  Text(0.5638156103645157, -0.2052119818852902, '11.1%')])"
      ]
     },
     "execution_count": 14,
     "metadata": {},
     "output_type": "execute_result"
    },
    {
     "data": {
      "image/png": "[encoded data removed]",
      "text/plain": [
       "<Figure size 432x288 with 1 Axes>"
      ]
     },
     "metadata": {},
     "output_type": "display_data"
    }
   ],
   "source": [
    "#Write a program to check ipl statistics of the specific team\n",
    "\n",
    "team = [\"MI\",\"KKR\",\"CSK\",\"DC\",\"XXIP\",\"SRH\",\"RCB\",\"RR\"]\n",
    "points = [14,12,8,14,10,8,14,10]\n",
    "plt.bar(team,points)\n",
    "winning = [7,6,4,7,5,4,7,5]\n",
    "color = [\"blue\",\"purple\",\"yellow\",\"blue\",\"red\",\"orange\",\"red\",\"pink\"]\n",
    "plt.pie(winning,labels=team,shadow=True,autopct=\"%.1f%%\",colors=color)"
   ]
  },
  {
   "cell_type": "code",
   "execution_count": 8,
   "metadata": {},
   "outputs": [
    {
     "name": "stdout",
     "output_type": "stream",
     "text": [
      "230\n"
     ]
    },
    {
     "ename": "NameError",
     "evalue": "name 'numpy' is not defined",
     "output_type": "error",
     "traceback": [
      "\u001b[1;31m---------------------------------------------------------------------------\u001b[0m",
      "\u001b[1;31mNameError\u001b[0m                                 Traceback (most recent call last)",
      "\u001b[1;32m<ipython-input-8-31e8744dcb65>\u001b[0m in \u001b[0;36m<module>\u001b[1;34m\u001b[0m\n\u001b[0;32m     14\u001b[0m     \u001b[0ma\u001b[0m \u001b[1;33m=\u001b[0m \u001b[0mnumpy\u001b[0m\u001b[1;33m.\u001b[0m\u001b[0mround\u001b[0m\u001b[1;33m(\u001b[0m\u001b[0mval\u001b[0m\u001b[1;33m/\u001b[0m\u001b[1;36m100.\u001b[0m\u001b[1;33m*\u001b[0m\u001b[0mmarks\u001b[0m\u001b[1;33m.\u001b[0m\u001b[0msum\u001b[0m\u001b[1;33m(\u001b[0m\u001b[1;33m)\u001b[0m\u001b[1;33m,\u001b[0m \u001b[1;36m0\u001b[0m\u001b[1;33m)\u001b[0m\u001b[1;33m\u001b[0m\u001b[1;33m\u001b[0m\u001b[0m\n\u001b[0;32m     15\u001b[0m     \u001b[1;32mreturn\u001b[0m \u001b[0ma\u001b[0m\u001b[1;33m\u001b[0m\u001b[1;33m\u001b[0m\u001b[0m\n\u001b[1;32m---> 16\u001b[1;33m \u001b[0mplt\u001b[0m\u001b[1;33m.\u001b[0m\u001b[0mpie\u001b[0m\u001b[1;33m(\u001b[0m\u001b[0mmarks\u001b[0m\u001b[1;33m,\u001b[0m\u001b[0mlabels\u001b[0m\u001b[1;33m=\u001b[0m\u001b[0msub\u001b[0m\u001b[1;33m,\u001b[0m\u001b[0mautopct\u001b[0m\u001b[1;33m=\u001b[0m\u001b[0mabsolute_value\u001b[0m\u001b[1;33m,\u001b[0m\u001b[0mexplode\u001b[0m \u001b[1;33m=\u001b[0m \u001b[0mexplode\u001b[0m\u001b[1;33m,\u001b[0m\u001b[0mcolors\u001b[0m\u001b[1;33m=\u001b[0m\u001b[0mcolor\u001b[0m\u001b[1;33m)\u001b[0m\u001b[1;33m\u001b[0m\u001b[1;33m\u001b[0m\u001b[0m\n\u001b[0m\u001b[0;32m     17\u001b[0m \u001b[0mplt\u001b[0m\u001b[1;33m.\u001b[0m\u001b[0mshow\u001b[0m\u001b[1;33m(\u001b[0m\u001b[1;33m)\u001b[0m\u001b[1;33m\u001b[0m\u001b[1;33m\u001b[0m\u001b[0m\n",
      "\u001b[1;32m~\\anaconda3\\lib\\site-packages\\matplotlib\\pyplot.py\u001b[0m in \u001b[0;36mpie\u001b[1;34m(x, explode, labels, colors, autopct, pctdistance, shadow, labeldistance, startangle, radius, counterclock, wedgeprops, textprops, center, frame, rotatelabels, normalize, data)\u001b[0m\n\u001b[0;32m   2816\u001b[0m         \u001b[0mwedgeprops\u001b[0m\u001b[1;33m=\u001b[0m\u001b[0mwedgeprops\u001b[0m\u001b[1;33m,\u001b[0m \u001b[0mtextprops\u001b[0m\u001b[1;33m=\u001b[0m\u001b[0mtextprops\u001b[0m\u001b[1;33m,\u001b[0m \u001b[0mcenter\u001b[0m\u001b[1;33m=\u001b[0m\u001b[0mcenter\u001b[0m\u001b[1;33m,\u001b[0m\u001b[1;33m\u001b[0m\u001b[1;33m\u001b[0m\u001b[0m\n\u001b[0;32m   2817\u001b[0m         \u001b[0mframe\u001b[0m\u001b[1;33m=\u001b[0m\u001b[0mframe\u001b[0m\u001b[1;33m,\u001b[0m \u001b[0mrotatelabels\u001b[0m\u001b[1;33m=\u001b[0m\u001b[0mrotatelabels\u001b[0m\u001b[1;33m,\u001b[0m \u001b[0mnormalize\u001b[0m\u001b[1;33m=\u001b[0m\u001b[0mnormalize\u001b[0m\u001b[1;33m,\u001b[0m\u001b[1;33m\u001b[0m\u001b[1;33m\u001b[0m\u001b[0m\n\u001b[1;32m-> 2818\u001b[1;33m         **({\"data\": data} if data is not None else {}))\n\u001b[0m\u001b[0;32m   2819\u001b[0m \u001b[1;33m\u001b[0m\u001b[0m\n\u001b[0;32m   2820\u001b[0m \u001b[1;33m\u001b[0m\u001b[0m\n",
      "\u001b[1;32m~\\anaconda3\\lib\\site-packages\\matplotlib\\__init__.py\u001b[0m in \u001b[0;36minner\u001b[1;34m(ax, data, *args, **kwargs)\u001b[0m\n\u001b[0;32m   1436\u001b[0m     \u001b[1;32mdef\u001b[0m \u001b[0minner\u001b[0m\u001b[1;33m(\u001b[0m\u001b[0max\u001b[0m\u001b[1;33m,\u001b[0m \u001b[1;33m*\u001b[0m\u001b[0margs\u001b[0m\u001b[1;33m,\u001b[0m \u001b[0mdata\u001b[0m\u001b[1;33m=\u001b[0m\u001b[1;32mNone\u001b[0m\u001b[1;33m,\u001b[0m \u001b[1;33m**\u001b[0m\u001b[0mkwargs\u001b[0m\u001b[1;33m)\u001b[0m\u001b[1;33m:\u001b[0m\u001b[1;33m\u001b[0m\u001b[1;33m\u001b[0m\u001b[0m\n\u001b[0;32m   1437\u001b[0m         \u001b[1;32mif\u001b[0m \u001b[0mdata\u001b[0m \u001b[1;32mis\u001b[0m \u001b[1;32mNone\u001b[0m\u001b[1;33m:\u001b[0m\u001b[1;33m\u001b[0m\u001b[1;33m\u001b[0m\u001b[0m\n\u001b[1;32m-> 1438\u001b[1;33m             \u001b[1;32mreturn\u001b[0m \u001b[0mfunc\u001b[0m\u001b[1;33m(\u001b[0m\u001b[0max\u001b[0m\u001b[1;33m,\u001b[0m \u001b[1;33m*\u001b[0m\u001b[0mmap\u001b[0m\u001b[1;33m(\u001b[0m\u001b[0msanitize_sequence\u001b[0m\u001b[1;33m,\u001b[0m \u001b[0margs\u001b[0m\u001b[1;33m)\u001b[0m\u001b[1;33m,\u001b[0m \u001b[1;33m**\u001b[0m\u001b[0mkwargs\u001b[0m\u001b[1;33m)\u001b[0m\u001b[1;33m\u001b[0m\u001b[1;33m\u001b[0m\u001b[0m\n\u001b[0m\u001b[0;32m   1439\u001b[0m \u001b[1;33m\u001b[0m\u001b[0m\n\u001b[0;32m   1440\u001b[0m         \u001b[0mbound\u001b[0m \u001b[1;33m=\u001b[0m \u001b[0mnew_sig\u001b[0m\u001b[1;33m.\u001b[0m\u001b[0mbind\u001b[0m\u001b[1;33m(\u001b[0m\u001b[0max\u001b[0m\u001b[1;33m,\u001b[0m \u001b[1;33m*\u001b[0m\u001b[0margs\u001b[0m\u001b[1;33m,\u001b[0m \u001b[1;33m**\u001b[0m\u001b[0mkwargs\u001b[0m\u001b[1;33m)\u001b[0m\u001b[1;33m\u001b[0m\u001b[1;33m\u001b[0m\u001b[0m\n",
      "\u001b[1;32m~\\anaconda3\\lib\\site-packages\\matplotlib\\axes\\_axes.py\u001b[0m in \u001b[0;36mpie\u001b[1;34m(self, x, explode, labels, colors, autopct, pctdistance, shadow, labeldistance, startangle, radius, counterclock, wedgeprops, textprops, center, frame, rotatelabels, normalize)\u001b[0m\n\u001b[0;32m   3105\u001b[0m                     \u001b[0ms\u001b[0m \u001b[1;33m=\u001b[0m \u001b[0mautopct\u001b[0m \u001b[1;33m%\u001b[0m \u001b[1;33m(\u001b[0m\u001b[1;36m100.\u001b[0m \u001b[1;33m*\u001b[0m \u001b[0mfrac\u001b[0m\u001b[1;33m)\u001b[0m\u001b[1;33m\u001b[0m\u001b[1;33m\u001b[0m\u001b[0m\n\u001b[0;32m   3106\u001b[0m                 \u001b[1;32melif\u001b[0m \u001b[0mcallable\u001b[0m\u001b[1;33m(\u001b[0m\u001b[0mautopct\u001b[0m\u001b[1;33m)\u001b[0m\u001b[1;33m:\u001b[0m\u001b[1;33m\u001b[0m\u001b[1;33m\u001b[0m\u001b[0m\n\u001b[1;32m-> 3107\u001b[1;33m                     \u001b[0ms\u001b[0m \u001b[1;33m=\u001b[0m \u001b[0mautopct\u001b[0m\u001b[1;33m(\u001b[0m\u001b[1;36m100.\u001b[0m \u001b[1;33m*\u001b[0m \u001b[0mfrac\u001b[0m\u001b[1;33m)\u001b[0m\u001b[1;33m\u001b[0m\u001b[1;33m\u001b[0m\u001b[0m\n\u001b[0m\u001b[0;32m   3108\u001b[0m                 \u001b[1;32melse\u001b[0m\u001b[1;33m:\u001b[0m\u001b[1;33m\u001b[0m\u001b[1;33m\u001b[0m\u001b[0m\n\u001b[0;32m   3109\u001b[0m                     raise TypeError(\n",
      "\u001b[1;32m<ipython-input-8-31e8744dcb65>\u001b[0m in \u001b[0;36mabsolute_value\u001b[1;34m(val)\u001b[0m\n\u001b[0;32m     12\u001b[0m         \u001b[0mexplode\u001b[0m\u001b[1;33m.\u001b[0m\u001b[0mappend\u001b[0m\u001b[1;33m(\u001b[0m\u001b[1;36m0\u001b[0m\u001b[1;33m)\u001b[0m\u001b[1;33m\u001b[0m\u001b[1;33m\u001b[0m\u001b[0m\n\u001b[0;32m     13\u001b[0m \u001b[1;32mdef\u001b[0m \u001b[0mabsolute_value\u001b[0m\u001b[1;33m(\u001b[0m\u001b[0mval\u001b[0m\u001b[1;33m)\u001b[0m\u001b[1;33m:\u001b[0m\u001b[1;33m\u001b[0m\u001b[1;33m\u001b[0m\u001b[0m\n\u001b[1;32m---> 14\u001b[1;33m     \u001b[0ma\u001b[0m \u001b[1;33m=\u001b[0m \u001b[0mnumpy\u001b[0m\u001b[1;33m.\u001b[0m\u001b[0mround\u001b[0m\u001b[1;33m(\u001b[0m\u001b[0mval\u001b[0m\u001b[1;33m/\u001b[0m\u001b[1;36m100.\u001b[0m\u001b[1;33m*\u001b[0m\u001b[0mmarks\u001b[0m\u001b[1;33m.\u001b[0m\u001b[0msum\u001b[0m\u001b[1;33m(\u001b[0m\u001b[1;33m)\u001b[0m\u001b[1;33m,\u001b[0m \u001b[1;36m0\u001b[0m\u001b[1;33m)\u001b[0m\u001b[1;33m\u001b[0m\u001b[1;33m\u001b[0m\u001b[0m\n\u001b[0m\u001b[0;32m     15\u001b[0m     \u001b[1;32mreturn\u001b[0m \u001b[0ma\u001b[0m\u001b[1;33m\u001b[0m\u001b[1;33m\u001b[0m\u001b[0m\n\u001b[0;32m     16\u001b[0m \u001b[0mplt\u001b[0m\u001b[1;33m.\u001b[0m\u001b[0mpie\u001b[0m\u001b[1;33m(\u001b[0m\u001b[0mmarks\u001b[0m\u001b[1;33m,\u001b[0m\u001b[0mlabels\u001b[0m\u001b[1;33m=\u001b[0m\u001b[0msub\u001b[0m\u001b[1;33m,\u001b[0m\u001b[0mautopct\u001b[0m\u001b[1;33m=\u001b[0m\u001b[0mabsolute_value\u001b[0m\u001b[1;33m,\u001b[0m\u001b[0mexplode\u001b[0m \u001b[1;33m=\u001b[0m \u001b[0mexplode\u001b[0m\u001b[1;33m,\u001b[0m\u001b[0mcolors\u001b[0m\u001b[1;33m=\u001b[0m\u001b[0mcolor\u001b[0m\u001b[1;33m)\u001b[0m\u001b[1;33m\u001b[0m\u001b[1;33m\u001b[0m\u001b[0m\n",
      "\u001b[1;31mNameError\u001b[0m: name 'numpy' is not defined"
     ]
    },
    {
     "data": {
      "image/png": "[encoded data removed]",
      "text/plain": [
       "<Figure size 432x288 with 1 Axes>"
      ]
     },
     "metadata": {
      "needs_background": "light"
     },
     "output_type": "display_data"
    }
   ],
   "source": [
    "import numpy as np\n",
    "marks = np.array([124,230,126,77,108])\n",
    "color=['blue','green','red','orange','yellow']\n",
    "sub = ['CSE','MECH','ECE','EEE','CIVIL']\n",
    "m = max(marks)\n",
    "print(m)\n",
    "explode = []\n",
    "for i in range(len(marks)):\n",
    "    if(marks[i] == m):\n",
    "        explode.append(0.1)\n",
    "    else:\n",
    "        explode.append(0)\n",
    "def absolute_value(val):\n",
    "    a = numpy.round(val/100.*marks.sum(), 0)\n",
    "    return a\n",
    "plt.pie(marks,labels=sub,autopct=absolute_value,explode = explode,colors=color)\n",
    "plt.show()"
   ]
  },
  {
   "cell_type": "code",
   "execution_count": null,
   "metadata": {},
   "outputs": [],
   "source": []
  }
 ],
 "metadata": {
  "kernelspec": {
   "display_name": "Python 3",
   "language": "python",
   "name": "python3"
  },
  "language_info": {
   "codemirror_mode": {
    "name": "ipython",
    "version": 3
   },
   "file_extension": ".py",
   "mimetype": "text/x-python",
   "name": "python",
   "nbconvert_exporter": "python",
   "pygments_lexer": "ipython3",
   "version": "3.7.9"
  }
 },
 "nbformat": 4,
 "nbformat_minor": 4
}
