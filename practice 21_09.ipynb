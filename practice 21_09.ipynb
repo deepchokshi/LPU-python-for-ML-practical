{
 "cells": [
  {
   "cell_type": "code",
   "execution_count": 4,
   "metadata": {},
   "outputs": [
    {
     "name": "stdout",
     "output_type": "stream",
     "text": [
      "125\n",
      "125\n"
     ]
    }
   ],
   "source": [
    "class box:\n",
    "    w = 0\n",
    "    h = 0\n",
    "    d = 0\n",
    "    def __init__(self):\n",
    "        self.w=5\n",
    "        self.h=5\n",
    "        self.d=5\n",
    "        print(self.w*self.h*self.d)\n",
    "    def vol(self):\n",
    "        return self.w*self.h*self.d\n",
    "\n",
    "obj=box()\n",
    "print (obj.vol())"
   ]
  },
  {
   "cell_type": "code",
   "execution_count": 10,
   "metadata": {},
   "outputs": [
    {
     "name": "stdout",
     "output_type": "stream",
     "text": [
      "name deep\n",
      "name in deep\n",
      "account in 124\n"
     ]
    }
   ],
   "source": [
    "class demo:\n",
    "    def __init__(self):\n",
    "        self.name=\"deep\"\n",
    "        self.__acc=124\n",
    "    def display(self):\n",
    "        print (\"name in\",self.name)\n",
    "        print (\"account in\",self.__acc)\n",
    "obj=demo()\n",
    "print (\"name\",obj.name)\n",
    "#print (\"acc\",obj.__acc)\n",
    "obj.display()"
   ]
  },
  {
   "cell_type": "code",
   "execution_count": 2,
   "metadata": {},
   "outputs": [
    {
     "name": "stdout",
     "output_type": "stream",
     "text": [
      "True\n"
     ]
    }
   ],
   "source": [
    "class deep:\n",
    "    s_h = 0\n",
    "    s_l = 0\n",
    "    rect_h = 0\n",
    "    rect_l = 0\n",
    "    def __init__(self,s_h,s_l,rect_h,rect_l):\n",
    "        self.s_h=s_h\n",
    "        self.s_l=s_l\n",
    "        self.rect_h=rect_h\n",
    "        self.rect_l=rect_l\n",
    "    def equal(self,obj):\n",
    "        if (obj.s_h==self.s_h and obj.s_l==self.s_l and obj.rect_l==self.rect_l and obj.rect_h==self.rect_h):\n",
    "            return True\n",
    "        else:\n",
    "            return False\n",
    "\n",
    "obj1 = deep(10,20,10,20)\n",
    "obj2 = deep(10,20,10,20)\n",
    "print (obj1.equal(obj2))"
   ]
  },
  {
   "cell_type": "code",
   "execution_count": 2,
   "metadata": {},
   "outputs": [
    {
     "ename": "SyntaxError",
     "evalue": "unexpected EOF while parsing (<ipython-input-2-9a118c7382f4>, line 12)",
     "output_type": "error",
     "traceback": [
      "\u001b[1;36m  File \u001b[1;32m\"<ipython-input-2-9a118c7382f4>\"\u001b[1;36m, line \u001b[1;32m12\u001b[0m\n\u001b[1;33m    else:\u001b[0m\n\u001b[1;37m         ^\u001b[0m\n\u001b[1;31mSyntaxError\u001b[0m\u001b[1;31m:\u001b[0m unexpected EOF while parsing\n"
     ]
    }
   ],
   "source": [
    "#Write a program in python to create a class having details of 5 students. \n",
    "#Print the count of student who are having same marks using the\n",
    "#concept of passing object as a function argument.\n",
    "\n",
    "class deep:\n",
    "    marks = 0\n",
    "    def __init__(self,marks):\n",
    "        self.marks = marks\n",
    "    def compare(self,obj):\n",
    "        if (obj.marks==self.marks):\n",
    "            return True\n",
    "        else:\n",
    "            return False\n",
    "\n",
    "name = [\"st1\",\"st2\",\"st3\",\"st4\",\"st5\"]\n",
    "marks = [50,70,50,89,70]\n",
    "for i in range(6):\n",
    "    for j in range(1,6)\n",
    "        obj1 = "
   ]
  },
  {
   "cell_type": "code",
   "execution_count": null,
   "metadata": {},
   "outputs": [],
   "source": []
  }
 ],
 "metadata": {
  "kernelspec": {
   "display_name": "Python 3",
   "language": "python",
   "name": "python3"
  },
  "language_info": {
   "codemirror_mode": {
    "name": "ipython",
    "version": 3
   },
   "file_extension": ".py",
   "mimetype": "text/x-python",
   "name": "python",
   "nbconvert_exporter": "python",
   "pygments_lexer": "ipython3",
   "version": "3.7.7"
  }
 },
 "nbformat": 4,
 "nbformat_minor": 4
}
