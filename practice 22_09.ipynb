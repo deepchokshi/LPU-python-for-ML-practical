{
 "cells": [
  {
   "cell_type": "code",
   "execution_count": 1,
   "metadata": {},
   "outputs": [
    {
     "name": "stdout",
     "output_type": "stream",
     "text": [
      "Constr\n",
      "Constr\n",
      "sedtru\n",
      "sedtru\n"
     ]
    }
   ],
   "source": [
    "class demo:\n",
    "    def __init__(self):\n",
    "        print (\"Constr\")\n",
    "    def __del__(self):\n",
    "        print(\"sedtru\")\n",
    "\n",
    "obj1=demo()\n",
    "obj2=demo()\n",
    "del obj1\n",
    "del obj2"
   ]
  },
  {
   "cell_type": "code",
   "execution_count": 4,
   "metadata": {},
   "outputs": [
    {
     "name": "stdout",
     "output_type": "stream",
     "text": [
      "sam\n",
      "Welcome\n"
     ]
    }
   ],
   "source": [
    "class overload:\n",
    "    def greet(self,name=None):\n",
    "        if name is not None:\n",
    "            print (name)\n",
    "        else:\n",
    "            print (\"Welcome\")\n",
    "\n",
    "obj = overload()\n",
    "obj.greet(\"sam\")\n",
    "obj.greet()"
   ]
  },
  {
   "cell_type": "code",
   "execution_count": 6,
   "metadata": {},
   "outputs": [
    {
     "name": "stdout",
     "output_type": "stream",
     "text": [
      "30\n",
      "ilovepython\n"
     ]
    }
   ],
   "source": [
    "class deep:\n",
    "    resukt=0\n",
    "    def add(self,instance=None,*args):\n",
    "\n",
    "        if instance == \"int\":\n",
    "            self.result=0\n",
    "        if instance == \"str\":\n",
    "            self.result=\"\"\n",
    "        for i in args:\n",
    "            self.result+=i\n",
    "        return self.result\n",
    "obj=deep()\n",
    "print (obj.add(\"int\",10,20))\n",
    "print (obj.add(\"str\",\"i\",\"love\",\"python\"))"
   ]
  },
  {
   "cell_type": "code",
   "execution_count": 21,
   "metadata": {},
   "outputs": [
    {
     "name": "stdout",
     "output_type": "stream",
     "text": [
      "(10, 20)\n",
      "Area of Square is: 200\n",
      "(15, 20)\n",
      "Area of rectangle is: 60000\n",
      "(17, 20)\n",
      "Area of rectangle is: 10200000.0\n"
     ]
    }
   ],
   "source": [
    "class shape:\n",
    "    result=1\n",
    "    def area(self,name=None,*args):\n",
    "        print (args)\n",
    "        if name == \"sqr\":\n",
    "            for i in args:\n",
    "                self.result *= i\n",
    "            print (\"Area of Square is:\", self.result)\n",
    "        if name == \"rec\":\n",
    "            for i in args:\n",
    "                self.result *= i\n",
    "            print (\"Area of rectangle is:\", self.result)\n",
    "        if name == \"tri\":\n",
    "            for i in args:\n",
    "                self.result *= i\n",
    "            self.result = self.result/2\n",
    "            print (\"Area of triangle is:\", self.result)\n",
    "obj1 = shape()\n",
    "obj1.area(\"sqr\",10,20)\n",
    "obj1.area(\"rec\",15,20)\n",
    "obj1.area(\"tri\",17,20)"
   ]
  },
  {
   "cell_type": "code",
   "execution_count": null,
   "metadata": {},
   "outputs": [],
   "source": []
  }
 ],
 "metadata": {
  "kernelspec": {
   "display_name": "Python 3",
   "language": "python",
   "name": "python3"
  },
  "language_info": {
   "codemirror_mode": {
    "name": "ipython",
    "version": 3
   },
   "file_extension": ".py",
   "mimetype": "text/x-python",
   "name": "python",
   "nbconvert_exporter": "python",
   "pygments_lexer": "ipython3",
   "version": "3.7.7"
  }
 },
 "nbformat": 4,
 "nbformat_minor": 4
}
