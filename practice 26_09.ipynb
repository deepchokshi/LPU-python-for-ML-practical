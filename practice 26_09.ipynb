{
 "cells": [
  {
   "cell_type": "code",
   "execution_count": 1,
   "metadata": {},
   "outputs": [],
   "source": [
    "#inhertance single and multiple"
   ]
  },
  {
   "cell_type": "code",
   "execution_count": 2,
   "metadata": {},
   "outputs": [
    {
     "name": "stdout",
     "output_type": "stream",
     "text": [
      "Base class\n",
      "Derived class\n"
     ]
    }
   ],
   "source": [
    "#Single inhheritance\n",
    "\n",
    "class a:\n",
    "    print (\"Base class\")\n",
    "class b(a):\n",
    "    print (\"Derived class\")\n",
    "obj= a() "
   ]
  },
  {
   "cell_type": "code",
   "execution_count": 3,
   "metadata": {},
   "outputs": [
    {
     "name": "stdout",
     "output_type": "stream",
     "text": [
      "10 20\n"
     ]
    }
   ],
   "source": [
    "class parent:\n",
    "    def set(self,x,y):\n",
    "        self.x=x\n",
    "        self.y=y\n",
    "class child(parent):\n",
    "    def draw(self):\n",
    "        print (self.x,self.y)\n",
    "obj = child()\n",
    "obj.set(10,20)\n",
    "obj.draw()"
   ]
  },
  {
   "cell_type": "code",
   "execution_count": 2,
   "metadata": {},
   "outputs": [
    {
     "name": "stdout",
     "output_type": "stream",
     "text": [
      "1 Base class\n",
      "2 Base class\n",
      "Derived class\n"
     ]
    }
   ],
   "source": [
    "#Write a program to perform multiple inheritance\n",
    "class deep:\n",
    "    def a(self):\n",
    "        print (\"1 Base class\")\n",
    "class chokshi:\n",
    "    def b(self):\n",
    "        print (\"2 Base class\")\n",
    "class child(deep,chokshi):\n",
    "    def c(self):\n",
    "        print (\"Derived class\")\n",
    "obj = child()\n",
    "obj.a()\n",
    "obj.b()\n",
    "obj.c()"
   ]
  },
  {
   "cell_type": "code",
   "execution_count": 21,
   "metadata": {
    "scrolled": false
   },
   "outputs": [
    {
     "name": "stdout",
     "output_type": "stream",
     "text": [
      "Enter the name of student:deep\n",
      "Enter the name of faculty:sagar sir\n",
      "Student deep\n",
      "Faculty sagar sir\n"
     ]
    }
   ],
   "source": [
    "class clg:\n",
    "    def display(self):\n",
    "        print (\"All details\")\n",
    "        \n",
    "class student(clg):\n",
    "    s_name = \"\"\n",
    "    def s_detail(self):\n",
    "        print (\"Name:\",self.s_name)\n",
    "        \n",
    "class faculty(clg):\n",
    "    f_name = \"\"\n",
    "    def f_detail(self):\n",
    "        print(\"Name:\",self.f_name)\n",
    "\n",
    "class show(student,faculty):\n",
    "    def showing(self):\n",
    "        print (\"Student\",self.s_name)\n",
    "        print (\"Faculty\",self.f_name)\n",
    "        \n",
    "obj = show()\n",
    "s_name = input(\"Enter the name of student:\")\n",
    "f_name = input(\"Enter the name of faculty:\")\n",
    "obj.s_name = s_name\n",
    "obj.f_name = f_name\n",
    "obj.showing()"
   ]
  },
  {
   "cell_type": "code",
   "execution_count": null,
   "metadata": {},
   "outputs": [],
   "source": []
  }
 ],
 "metadata": {
  "kernelspec": {
   "display_name": "Python 3",
   "language": "python",
   "name": "python3"
  },
  "language_info": {
   "codemirror_mode": {
    "name": "ipython",
    "version": 3
   },
   "file_extension": ".py",
   "mimetype": "text/x-python",
   "name": "python",
   "nbconvert_exporter": "python",
   "pygments_lexer": "ipython3",
   "version": "3.7.7"
  }
 },
 "nbformat": 4,
 "nbformat_minor": 4
}
