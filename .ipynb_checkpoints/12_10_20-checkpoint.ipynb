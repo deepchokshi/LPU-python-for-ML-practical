{
 "cells": [
  {
   "cell_type": "code",
   "execution_count": 3,
   "metadata": {},
   "outputs": [
    {
     "name": "stdout",
     "output_type": "stream",
     "text": [
      "Index out of range\n",
      "[8, 9, 6, 3, 1]\n"
     ]
    }
   ],
   "source": [
    "tup = (5,8,9,6,3,1)\n",
    "lst = []\n",
    "try:\n",
    "    for i in range (1,10):\n",
    "        lst.append(tup[i])\n",
    "except NameError:\n",
    "    print (\"Name not defined\")\n",
    "except AttributeError:\n",
    "    print (\"List object has not attribute\")\n",
    "except TypeError:\n",
    "    print (\"No argument given\")\n",
    "except IndexError:\n",
    "    print (\"Index out of range\")\n",
    "except SyntaxError:\n",
    "    print (\"Syntax Error\")\n",
    "finally:\n",
    "    print (lst)"
   ]
  },
  {
   "cell_type": "code",
   "execution_count": null,
   "metadata": {},
   "outputs": [],
   "source": [
    "lst = []\n",
    "lst.append(i)"
   ]
  },
  {
   "cell_type": "code",
   "execution_count": null,
   "metadata": {},
   "outputs": [],
   "source": [
    "print i"
   ]
  },
  {
   "cell_type": "code",
   "execution_count": 13,
   "metadata": {},
   "outputs": [],
   "source": [
    "dic = {1:2,3:5}\n",
    "dic[\"5\"]=7\n",
    "for i in d"
   ]
  },
  {
   "cell_type": "code",
   "execution_count": 29,
   "metadata": {},
   "outputs": [
    {
     "ename": "KeyError",
     "evalue": "5",
     "output_type": "error",
     "traceback": [
      "\u001b[1;31m---------------------------------------------------------------------------\u001b[0m",
      "\u001b[1;31mKeyError\u001b[0m                                  Traceback (most recent call last)",
      "\u001b[1;32m<ipython-input-29-6623168fbb23>\u001b[0m in \u001b[0;36m<module>\u001b[1;34m\u001b[0m\n\u001b[1;32m----> 1\u001b[1;33m \u001b[0mdic\u001b[0m\u001b[1;33m.\u001b[0m\u001b[0mpop\u001b[0m\u001b[1;33m(\u001b[0m\u001b[1;36m5\u001b[0m\u001b[1;33m)\u001b[0m\u001b[1;33m\u001b[0m\u001b[1;33m\u001b[0m\u001b[0m\n\u001b[0m",
      "\u001b[1;31mKeyError\u001b[0m: 5"
     ]
    }
   ],
   "source": [
    "dic.pop(5)"
   ]
  },
  {
   "cell_type": "code",
   "execution_count": 30,
   "metadata": {},
   "outputs": [
    {
     "name": "stdout",
     "output_type": "stream",
     "text": [
      "Key Error\n"
     ]
    }
   ],
   "source": [
    "dic = dic = {1:2,3:5}\n",
    "try:\n",
    "    dic.pop(5)\n",
    "    dicitems()\n",
    "except SyntaxError:\n",
    "    print (\"Syntax\")\n",
    "except KeyError:\n",
    "    print (\"Key Error\")\n",
    "except TypeError:\n",
    "    print (\"Type Error\")\n",
    "except AttributeError:\n",
    "    print (\"Attribute\")\n",
    "except IndexError:\n",
    "    print (\"IndexError\")"
   ]
  },
  {
   "cell_type": "code",
   "execution_count": null,
   "metadata": {},
   "outputs": [],
   "source": []
  }
 ],
 "metadata": {
  "kernelspec": {
   "display_name": "Python 3",
   "language": "python",
   "name": "python3"
  },
  "language_info": {
   "codemirror_mode": {
    "name": "ipython",
    "version": 3
   },
   "file_extension": ".py",
   "mimetype": "text/x-python",
   "name": "python",
   "nbconvert_exporter": "python",
   "pygments_lexer": "ipython3",
   "version": "3.7.7"
  }
 },
 "nbformat": 4,
 "nbformat_minor": 4
}
