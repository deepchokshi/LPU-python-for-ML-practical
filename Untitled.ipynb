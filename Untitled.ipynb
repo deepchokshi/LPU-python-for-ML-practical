{
 "cells": [
  {
   "cell_type": "code",
   "execution_count": null,
   "metadata": {},
   "outputs": [],
   "source": [
    "f=open(\"demo.txt\",\"r\")\n",
    "#print (f.read())"
   ]
  },
  {
   "cell_type": "code",
   "execution_count": null,
   "metadata": {},
   "outputs": [],
   "source": [
    "print (f.read(5))"
   ]
  },
  {
   "cell_type": "code",
   "execution_count": null,
   "metadata": {},
   "outputs": [],
   "source": [
    "print (f.readline())"
   ]
  },
  {
   "cell_type": "code",
   "execution_count": null,
   "metadata": {},
   "outputs": [],
   "source": [
    "print (f.readlines())"
   ]
  },
  {
   "cell_type": "code",
   "execution_count": null,
   "metadata": {},
   "outputs": [],
   "source": [
    "f = open(\"demo.txt\",\"w\")\n",
    "f.write(\"file is updated\")\n",
    "f=open(\"demo.txt\",\"r\")\n",
    "print (f.read())"
   ]
  },
  {
   "cell_type": "code",
   "execution_count": null,
   "metadata": {},
   "outputs": [],
   "source": [
    "f=open(\"sample.txt\",\"w\")\n",
    "f.write(\"new file\")\n",
    "f=open(\"sample.txt\",\"r\")\n",
    "print (f.read())"
   ]
  },
  {
   "cell_type": "code",
   "execution_count": null,
   "metadata": {},
   "outputs": [],
   "source": [
    "f=open(\"sample.txt\",\"a\")"
   ]
  },
  {
   "cell_type": "code",
   "execution_count": null,
   "metadata": {},
   "outputs": [],
   "source": [
    "f.write(\"2nd line\")\n",
    "f=open(\"sample.txt\",\"r\")\n",
    "print (f.read())"
   ]
  },
  {
   "cell_type": "code",
   "execution_count": null,
   "metadata": {},
   "outputs": [],
   "source": [
    "with open(\"demo.txt\",\"r\") as f:\n",
    "    data=f.readlines()\n",
    "print (data)"
   ]
  },
  {
   "cell_type": "code",
   "execution_count": null,
   "metadata": {},
   "outputs": [],
   "source": [
    "#write a program to print the count of lines and the words in the file\n",
    "f=open(\"deep.txt\",\"w\")\n",
    "f.write(\"Hello\")\n",
    "f.write(\"How are you\")\n"
   ]
  },
  {
   "cell_type": "code",
   "execution_count": 1,
   "metadata": {},
   "outputs": [
    {
     "name": "stdout",
     "output_type": "stream",
     "text": [
      "\n",
      "Total words: 4\n",
      "Total lines 2\n"
     ]
    }
   ],
   "source": [
    "count = 0\n",
    "with open(\"deep.txt\",\"r\") as f:\n",
    "    data=f.readlines()\n",
    "lines=len(data)\n",
    "for line in data:\n",
    "    words = line.split()\n",
    "    count = count + len(words)\n",
    "print (\"Total words:\",count)\n",
    "print (\"Total lines\",lines)\n"
   ]
  },
  {
   "cell_type": "code",
   "execution_count": 5,
   "metadata": {},
   "outputs": [
    {
     "name": "stdout",
     "output_type": "stream",
     "text": [
      "Number found: 1\n",
      "Number found: 5\n",
      "Number found: 7\n",
      "Number found: 4\n",
      "Number found: 5\n",
      "Number found: 7\n",
      "Number found: 9\n",
      "Total of all number is: 38\n"
     ]
    }
   ],
   "source": [
    "total = 0\n",
    "with open(\"deep.txt\",\"r\") as f:\n",
    "    data=f.readlines()\n",
    "lines=len(data)\n",
    "for line in data:\n",
    "    words = line.split()\n",
    "    for i in words:\n",
    "        if i.isdigit():\n",
    "            print (\"Number found:\",i)\n",
    "            total = total + int(i)\n",
    "print (\"Total of all number is:\",total)"
   ]
  },
  {
   "cell_type": "code",
   "execution_count": null,
   "metadata": {},
   "outputs": [],
   "source": []
  }
 ],
 "metadata": {
  "kernelspec": {
   "display_name": "Python 3",
   "language": "python",
   "name": "python3"
  },
  "language_info": {
   "codemirror_mode": {
    "name": "ipython",
    "version": 3
   },
   "file_extension": ".py",
   "mimetype": "text/x-python",
   "name": "python",
   "nbconvert_exporter": "python",
   "pygments_lexer": "ipython3",
   "version": "3.7.7"
  }
 },
 "nbformat": 4,
 "nbformat_minor": 4
}
